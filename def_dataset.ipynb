{
  "nbformat": 4,
  "nbformat_minor": 0,
  "metadata": {
    "colab": {
      "name": "def_dataset.ipynb",
      "provenance": []
    },
    "kernelspec": {
      "name": "python3",
      "display_name": "Python 3"
    }
  },
  "cells": [
    {
      "cell_type": "code",
      "metadata": {
        "id": "VrK0pxu94OoN",
        "colab_type": "code",
        "colab": {}
      },
      "source": [
        "import numpy as np \n",
        "import matplotlib.pyplot as plt\n",
        "%matplotlib inline\n",
        "import glob\n",
        "import random\n",
        "import cv2\n",
        "from google.colab.patches import cv2_imshow"
      ],
      "execution_count": 0,
      "outputs": []
    },
    {
      "cell_type": "code",
      "metadata": {
        "id": "xnpsZkCc0MUV",
        "colab_type": "code",
        "colab": {}
      },
      "source": [
        "for filename in glob.glob(cats_image_file, recursive=True):\n",
        "\n",
        "    im = Image.open(filename)\n",
        "    imResize = im.resize((64,64), Image.ANTIALIAS)\n",
        "    imResize.save(filename , 'JPEG', quality=90)\n",
        "\n",
        "for filename in glob.glob(dogs_image_file, recursive=True):\n",
        "\n",
        "    im = Image.open(filename)\n",
        "    imResize = im.resize((64,64), Image.ANTIALIAS)\n",
        "    imResize.save(filename , 'JPEG', quality=90)"
      ],
      "execution_count": 0,
      "outputs": []
    },
    {
      "cell_type": "code",
      "metadata": {
        "id": "U1AywxaryIb6",
        "colab_type": "code",
        "colab": {}
      },
      "source": [
        "import numpy as np\n",
        "from PIL import Image\n",
        "import glob\n",
        "\n",
        "cats_image_file = glob.glob('/content/drive/My Drive/train_cat/*')\n",
        "dogs_image_file = glob.glob('/content/drive/My Drive/train_dog/*')\n",
        "\n",
        "cat_images =[]\n",
        "dog_images =[]\n",
        "\n",
        "for fname in cats_image_file:\n",
        "    img=cv2.imread(fname)\n",
        "    cat_images.append(img)\n",
        "\n",
        "for fname in dogs_image_file:\n",
        "    img=cv2.imread(fname)\n",
        "    dog_images.append(img)\n",
        "\n"
      ],
      "execution_count": 0,
      "outputs": []
    },
    {
      "cell_type": "code",
      "metadata": {
        "id": "Mp-zZxz_4vBj",
        "colab_type": "code",
        "colab": {}
      },
      "source": [
        "cat_images = np.asarray(cat_images)    \n",
        "dog_images = np.asarray(dog_images)\n"
      ],
      "execution_count": 0,
      "outputs": []
    },
    {
      "cell_type": "code",
      "metadata": {
        "id": "AlgItDqr42Uc",
        "colab_type": "code",
        "colab": {}
      },
      "source": [
        "train_X=np.concatenate((cat_images,dog_images),axis=0)"
      ],
      "execution_count": 0,
      "outputs": []
    },
    {
      "cell_type": "code",
      "metadata": {
        "id": "DJ341Ldx443q",
        "colab_type": "code",
        "colab": {}
      },
      "source": [
        "sizeDataSet = len(train_X)\n",
        "all_y = np.zeros(sizeDataSet, dtype=np.int)\n",
        "all_y[:len(cat_images)] = 1\n",
        "sizeTrainSet = int(sizeDataSet/2)\n",
        "    "
      ],
      "execution_count": 0,
      "outputs": []
    },
    {
      "cell_type": "code",
      "metadata": {
        "id": "Wf9n7G2Z5t-W",
        "colab_type": "code",
        "colab": {}
      },
      "source": [
        "randomIndicesForTrain = random.sample(range(sizeDataSet), sizeTrainSet)\n",
        "train_set_y = np.asarray([np.take(all_y,randomIndicesForTrain)])\n",
        "mask = np.zeros(sizeDataSet,dtype=bool)   \n",
        "mask[randomIndicesForTrain]=True\n",
        "train_set_x = train_X[mask]\n",
        "test_set_x = train_X[~mask]\n",
        "train_set_y = np.asarray([all_y[mask]])\n",
        "test_set_y = np.asarray([all_y[~mask]])"
      ],
      "execution_count": 0,
      "outputs": []
    },
    {
      "cell_type": "code",
      "metadata": {
        "id": "mL0QEGmGGspg",
        "colab_type": "code",
        "colab": {}
      },
      "source": [
        ""
      ],
      "execution_count": 0,
      "outputs": []
    }
  ]
}