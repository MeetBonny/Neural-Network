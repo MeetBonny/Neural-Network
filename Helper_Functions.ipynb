{
  "nbformat": 4,
  "nbformat_minor": 0,
  "metadata": {
    "colab": {
      "name": "Helper_Functions.ipynb",
      "provenance": [],
      "collapsed_sections": []
    },
    "kernelspec": {
      "name": "python3",
      "display_name": "Python 3"
    }
  },
  "cells": [
    {
      "cell_type": "code",
      "metadata": {
        "id": "lMlGXgTAH3XK",
        "colab_type": "code",
        "colab": {}
      },
      "source": [
        "import numpy as np"
      ],
      "execution_count": 0,
      "outputs": []
    },
    {
      "cell_type": "code",
      "metadata": {
        "id": "gLp6ennGHntC",
        "colab_type": "code",
        "colab": {}
      },
      "source": [
        "def sigmoid(z):\n",
        "\n",
        "    s = 1/(1+np.exp(-z))\n",
        "    \n",
        "    return s"
      ],
      "execution_count": 0,
      "outputs": []
    },
    {
      "cell_type": "code",
      "metadata": {
        "id": "2RJ6rJxdIxEf",
        "colab_type": "code",
        "colab": {}
      },
      "source": [
        "def init(dimen):\n",
        "  W=np.zeros([dimen,1])\n",
        "  b=0\n",
        "\n",
        "  return W,b\n"
      ],
      "execution_count": 0,
      "outputs": []
    },
    {
      "cell_type": "code",
      "metadata": {
        "id": "fnDei3jQJxXU",
        "colab_type": "code",
        "colab": {}
      },
      "source": [
        "def gradANDcost(W,b,X,y):\n",
        "\n",
        "  m=X.shape[1]\n",
        "\n",
        "  A=sigmoid(np.dot(W.T,X)+b)\n",
        "  cost = (-1/m)*(np.dot(y,np.log(A).T)+np.dot((1-y),np.log(1-A).T))\n",
        "\n",
        "  dw=(1/m)*np.dot(X,(A-Y).T)\n",
        "  db=(1/m)*np.sum(A-Y)\n",
        "\n",
        "  grads = {\"dw\":dw,\n",
        "          \"db\":db}\n",
        "  return grads ,cost        "
      ],
      "execution_count": 0,
      "outputs": []
    },
    {
      "cell_type": "code",
      "metadata": {
        "id": "eXsqCxd0RAgn",
        "colab_type": "code",
        "colab": {}
      },
      "source": [
        "def optimize(w, b, X, Y, num_iterations, learning_rate, print_cost = False):\n",
        "    \n",
        "    costs = []\n",
        "    \n",
        "    for i in range(num_iterations):\n",
        "\n",
        "        grads, cost = propagate(w,b,X,Y)\n",
        " \n",
        "        dw = grads[\"dw\"]\n",
        "        db = grads[\"db\"]\n",
        "       \n",
        "        w = w-learning_rate*dw\n",
        "        b = b-learning_rate*db\n",
        "\n",
        "        if i % 100 == 0:\n",
        "            costs.append(cost)\n",
        "    \n",
        "        if print_cost and i % 100 == 0:\n",
        "            print (\"Cost after iteration %i: %f\" %(i, cost))\n",
        "    \n",
        "    params = {\"w\": w,\n",
        "              \"b\": b}\n",
        "    \n",
        "    grads = {\"dw\": dw,\n",
        "             \"db\": db}\n",
        "    \n",
        "    return params, grads, costs"
      ],
      "execution_count": 0,
      "outputs": []
    },
    {
      "cell_type": "code",
      "metadata": {
        "id": "Fgxqu27uTAIP",
        "colab_type": "code",
        "colab": {}
      },
      "source": [
        ""
      ],
      "execution_count": 0,
      "outputs": []
    }
  ]
}